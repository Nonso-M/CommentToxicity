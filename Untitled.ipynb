{
 "cells": [
  {
   "cell_type": "code",
   "execution_count": 3,
   "id": "0546c2d8",
   "metadata": {},
   "outputs": [
    {
     "ename": "ImportError",
     "evalue": "cannot import name 'permutations' from 'collections' (C:\\Users\\BRC\\anaconda3\\lib\\collections\\__init__.py)",
     "output_type": "error",
     "traceback": [
      "\u001b[1;31m---------------------------------------------------------------------------\u001b[0m",
      "\u001b[1;31mImportError\u001b[0m                               Traceback (most recent call last)",
      "\u001b[1;32m~\\AppData\\Local\\Temp/ipykernel_2808/986189674.py\u001b[0m in \u001b[0;36m<module>\u001b[1;34m\u001b[0m\n\u001b[1;32m----> 1\u001b[1;33m \u001b[1;32mfrom\u001b[0m \u001b[0mcollections\u001b[0m \u001b[1;32mimport\u001b[0m \u001b[0mpermutations\u001b[0m\u001b[1;33m\u001b[0m\u001b[1;33m\u001b[0m\u001b[0m\n\u001b[0m\u001b[0;32m      2\u001b[0m \u001b[0ma\u001b[0m\u001b[1;33m=\u001b[0m\u001b[1;33m[\u001b[0m\u001b[1;36m1\u001b[0m\u001b[1;33m,\u001b[0m\u001b[1;36m2\u001b[0m\u001b[1;33m,\u001b[0m\u001b[1;36m3\u001b[0m\u001b[1;33m,\u001b[0m\u001b[1;36m4\u001b[0m\u001b[1;33m,\u001b[0m\u001b[1;36m5\u001b[0m\u001b[1;33m,\u001b[0m\u001b[1;36m6\u001b[0m\u001b[1;33m,\u001b[0m\u001b[1;36m7\u001b[0m\u001b[1;33m,\u001b[0m\u001b[1;36m8\u001b[0m\u001b[1;33m,\u001b[0m\u001b[1;36m8\u001b[0m\u001b[1;33m,\u001b[0m\u001b[1;36m9\u001b[0m\u001b[1;33m,\u001b[0m\u001b[1;36m11\u001b[0m\u001b[1;33m]\u001b[0m\u001b[1;33m\u001b[0m\u001b[1;33m\u001b[0m\u001b[0m\n\u001b[0;32m      3\u001b[0m \u001b[0mb\u001b[0m\u001b[1;33m=\u001b[0m \u001b[0mlist\u001b[0m\u001b[1;33m(\u001b[0m\u001b[0mpermutations\u001b[0m\u001b[1;33m(\u001b[0m\u001b[0ma\u001b[0m\u001b[1;33m)\u001b[0m\u001b[1;33m)\u001b[0m\u001b[1;33m\u001b[0m\u001b[1;33m\u001b[0m\u001b[0m\n\u001b[0;32m      4\u001b[0m \u001b[0mb\u001b[0m\u001b[1;33m\u001b[0m\u001b[1;33m\u001b[0m\u001b[0m\n",
      "\u001b[1;31mImportError\u001b[0m: cannot import name 'permutations' from 'collections' (C:\\Users\\BRC\\anaconda3\\lib\\collections\\__init__.py)"
     ]
    }
   ],
   "source": [
    "from collections import permutations\n",
    "a=[1,2,3,4,5,6,7,8,8,9,11]\n",
    "b= list(permutations(a))\n",
    "b"
   ]
  },
  {
   "cell_type": "code",
   "execution_count": 10,
   "id": "fe18ba65",
   "metadata": {},
   "outputs": [],
   "source": [
    "from itertools import combinations\n",
    "def solution(a, k):\n",
    "    list_a= list(combinations(a,2))\n",
    "    count=0\n",
    "    for x in list_a:\n",
    "        if sum(x)%k==0:\n",
    "            count+=1\n",
    "            \n",
    "    return count\n",
    "    \n",
    "    "
   ]
  },
  {
   "cell_type": "code",
   "execution_count": 11,
   "id": "fd051a12",
   "metadata": {},
   "outputs": [
    {
     "data": {
      "text/plain": [
       "4"
      ]
     },
     "execution_count": 11,
     "metadata": {},
     "output_type": "execute_result"
    }
   ],
   "source": [
    "from itertools import combinations\n",
    "a = [1, 2, 3, 4, 5]\n",
    "k = 3\n",
    "bb= solution(a,k)\n",
    "bb"
   ]
  },
  {
   "cell_type": "code",
   "execution_count": 12,
   "id": "930ee050",
   "metadata": {},
   "outputs": [],
   "source": [
    "def alternatingSort(a):\n",
    "    length = len(a)\n",
    "    b = []\n",
    "    for i in range(length):\n",
    "        if i % 2:\n",
    "            b.append(a[length - (i // 2) - 1])    # Updated.\n",
    "        else:\n",
    "            b.append(a[i // 2])                   # Updated.\n",
    "\n",
    "    return b\n"
   ]
  },
  {
   "cell_type": "code",
   "execution_count": 16,
   "id": "6ba72f2d",
   "metadata": {},
   "outputs": [
    {
     "name": "stdout",
     "output_type": "stream",
     "text": [
      "[5, 14, 6, 13, 7, 12, 8, 11, 9, 10]\n"
     ]
    }
   ],
   "source": [
    "a = [5,6,7,8,9,10,11,12,13,14]\n",
    "print(alternatingSort(a))"
   ]
  },
  {
   "cell_type": "code",
   "execution_count": 26,
   "id": "276ab72e",
   "metadata": {},
   "outputs": [
    {
     "name": "stdout",
     "output_type": "stream",
     "text": [
      "hhhh\n"
     ]
    }
   ],
   "source": [
    "if 1%2:\n",
    "    print('hhhh')"
   ]
  },
  {
   "cell_type": "code",
   "execution_count": 27,
   "id": "0c05ffac",
   "metadata": {},
   "outputs": [],
   "source": [
    "from itertools import combinations\n",
    "def solution(a):\n",
    "    list_a= list(combinations(a,2))\n",
    "    count=0\n",
    "    for x in list_a:\n",
    "        if x[0]== x[1]:\n",
    "            count+=1\n",
    "            \n",
    "    return count"
   ]
  },
  {
   "cell_type": "code",
   "execution_count": 28,
   "id": "99ec84d2",
   "metadata": {},
   "outputs": [],
   "source": [
    "a=[1,2,3,1,1,3]\n",
    "b= solution(a)"
   ]
  },
  {
   "cell_type": "code",
   "execution_count": 29,
   "id": "0236b0b9",
   "metadata": {},
   "outputs": [
    {
     "data": {
      "text/plain": [
       "4"
      ]
     },
     "execution_count": 29,
     "metadata": {},
     "output_type": "execute_result"
    }
   ],
   "source": [
    "b"
   ]
  },
  {
   "cell_type": "code",
   "execution_count": 33,
   "id": "86e025b2",
   "metadata": {},
   "outputs": [],
   "source": [
    "def solution(arr):\n",
    "    \n",
    "    \n",
    "    lisi= []\n",
    "    count = 0\n",
    "    for i in range(len(arr)-1):\n",
    "        x = arr[i]-arr[i+1]\n",
    "        lisi.append(x)\n",
    "        \n",
    "        \n",
    "                \n",
    "          \n",
    "        \n",
    "    return lisi"
   ]
  },
  {
   "cell_type": "code",
   "execution_count": 34,
   "id": "ff2ce2e3",
   "metadata": {},
   "outputs": [],
   "source": [
    "arr= [9, 8, 7, 6, 5]\n",
    "c= solution(arr)"
   ]
  },
  {
   "cell_type": "code",
   "execution_count": 35,
   "id": "ba51fe20",
   "metadata": {},
   "outputs": [
    {
     "data": {
      "text/plain": [
       "[1, 1, 1, 1]"
      ]
     },
     "execution_count": 35,
     "metadata": {},
     "output_type": "execute_result"
    }
   ],
   "source": [
    "c"
   ]
  },
  {
   "cell_type": "code",
   "execution_count": 36,
   "id": "bd0d9028",
   "metadata": {},
   "outputs": [
    {
     "data": {
      "text/plain": [
       "(True,)"
      ]
     },
     "execution_count": 36,
     "metadata": {},
     "output_type": "execute_result"
    }
   ],
   "source": [
    "\"ab12c\"<\"ab24z\", "
   ]
  },
  {
   "cell_type": "code",
   "execution_count": 95,
   "id": "2ed890d7",
   "metadata": {},
   "outputs": [],
   "source": [
    "def solvent(x, y):\n",
    "    len_x= len(x)\n",
    "    len_y= len(y)\n",
    "    count= 0\n",
    "    \n",
    "   \n",
    "    for i in range(len_x):\n",
    "            if x[i].isdigit():\n",
    "                res_str = x[:i] +  x[i+1:] \n",
    "                if  min(res_str, y)== res_str:\n",
    "                    count+=1\n",
    "                    \n",
    "       \n",
    "    for i in range(len_y):\n",
    "            if y[i].isdigit():\n",
    "                res_str1 = y[:i] + y[i+1:] \n",
    "                if min(res_str, x) ==x:\n",
    "                    count+=1\n",
    "                                      \n",
    "    return count\n",
    "                                      \n",
    "                    \n",
    "                    \n",
    "    \n",
    "    \n"
   ]
  },
  {
   "cell_type": "code",
   "execution_count": 96,
   "id": "7230e5d5",
   "metadata": {},
   "outputs": [],
   "source": [
    "s = \"ab12c\"\n",
    "t = \"ab24z\"\n",
    "c= solvent(s, t)"
   ]
  },
  {
   "cell_type": "code",
   "execution_count": 97,
   "id": "be5fd813",
   "metadata": {},
   "outputs": [
    {
     "data": {
      "text/plain": [
       "3"
      ]
     },
     "execution_count": 97,
     "metadata": {},
     "output_type": "execute_result"
    }
   ],
   "source": [
    "c\n",
    "                    "
   ]
  },
  {
   "cell_type": "code",
   "execution_count": 131,
   "id": "b1dfc521",
   "metadata": {},
   "outputs": [],
   "source": [
    "def gina(a, k):\n",
    "    a1= [x/sum(a) for x in a]\n",
    "    m=1\n",
    "    j= 0\n",
    "    lago= [0,0,0]\n",
    "    summ=0\n",
    "    for i in range(len(a)):\n",
    "        summ+=a1[i]\n",
    "        if summ>= 1/k:\n",
    "            if sum(lago)< sum(a1[j:i]):\n",
    "                lago= a1[j:i]\n",
    "            summ=0\n",
    "            j=i\n",
    "            \n",
    "            \n",
    "    return sum(lago)* sum(a)\n",
    "        \n",
    "        "
   ]
  },
  {
   "cell_type": "code",
   "execution_count": 132,
   "id": "a4c77550",
   "metadata": {},
   "outputs": [],
   "source": [
    "blocks = [1, 3, 1, 3, 3]\n",
    "height = 2 \n",
    "o=gina(blocks, height)"
   ]
  },
  {
   "cell_type": "code",
   "execution_count": 133,
   "id": "3e6fc3ad",
   "metadata": {},
   "outputs": [
    {
     "data": {
      "text/plain": [
       "0"
      ]
     },
     "execution_count": 133,
     "metadata": {},
     "output_type": "execute_result"
    }
   ],
   "source": [
    "o"
   ]
  },
  {
   "cell_type": "code",
   "execution_count": null,
   "id": "228b84f2",
   "metadata": {},
   "outputs": [],
   "source": []
  },
  {
   "cell_type": "code",
   "execution_count": null,
   "id": "c155848c",
   "metadata": {},
   "outputs": [],
   "source": []
  }
 ],
 "metadata": {
  "kernelspec": {
   "display_name": "Python 3 (ipykernel)",
   "language": "python",
   "name": "python3"
  },
  "language_info": {
   "codemirror_mode": {
    "name": "ipython",
    "version": 3
   },
   "file_extension": ".py",
   "mimetype": "text/x-python",
   "name": "python",
   "nbconvert_exporter": "python",
   "pygments_lexer": "ipython3",
   "version": "3.9.7"
  }
 },
 "nbformat": 4,
 "nbformat_minor": 5
}
